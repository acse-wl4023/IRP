{
 "cells": [
  {
   "cell_type": "code",
   "execution_count": 1,
   "metadata": {},
   "outputs": [
    {
     "name": "stderr",
     "output_type": "stream",
     "text": [
      "/home/scheng1/miniconda3/envs/wl4023/lib/python3.10/site-packages/torch/cuda/__init__.py:619: UserWarning: Can't initialize NVML\n",
      "  warnings.warn(\"Can't initialize NVML\")\n"
     ]
    }
   ],
   "source": [
    "from GAE import GAE\n",
    "from CAE import Autoencoder\n",
    "import Get_data as Gd\n",
    "import torch\n",
    "import torch.nn as nn\n",
    "\n",
    "import numpy as np\n",
    "import scipy\n",
    "import matplotlib.pyplot as plt"
   ]
  },
  {
   "cell_type": "markdown",
   "metadata": {},
   "source": [
    "# Get test data"
   ]
  },
  {
   "cell_type": "code",
   "execution_count": 2,
   "metadata": {},
   "outputs": [],
   "source": [
    "xyfile = \"/data/Sibo_22Mar2024/case_0/hessian_/xy_coords.npy\"\n",
    "pos = torch.tensor(np.load(xyfile), dtype=torch.float32)"
   ]
  },
  {
   "cell_type": "code",
   "execution_count": 3,
   "metadata": {},
   "outputs": [
    {
     "name": "stdout",
     "output_type": "stream",
     "text": [
      "torch.Size([97149, 97149])\n",
      "tensor([[    0,     0,     1,  ..., 97148, 97148, 97148],\n",
      "        [    1,     3,     0,  ..., 97145, 97146, 97147]])\n",
      "tensor([1., 1., 1.,  ..., 1., 1., 1.])\n"
     ]
    }
   ],
   "source": [
    "sparse_graph = scipy.sparse.load_npz('/data/Sibo_22Mar2024/sparse_matrix_fixed.npz')\n",
    "indices = np.array(sparse_graph.nonzero())\n",
    "values = sparse_graph.data\n",
    "shape = sparse_graph.shape\n",
    "\n",
    "# sparse edge tensor\n",
    "edge_tensor = torch.sparse_coo_tensor(indices, values, shape, dtype=torch.float).coalesce()\n",
    "edge_index = edge_tensor.indices()\n",
    "edge_weight = edge_tensor.values()\n",
    "print(edge_tensor.shape)\n",
    "print(edge_index)\n",
    "print(edge_weight)"
   ]
  },
  {
   "cell_type": "code",
   "execution_count": 4,
   "metadata": {},
   "outputs": [],
   "source": [
    "folders = ['/data/Sibo_22Mar2024/case_18/hessian_']\n",
    "test_np, length = Gd.get_all_nodes(folders[-1:])\n",
    "test_np = np.expand_dims(test_np[:, :, 0], axis=2)\n",
    "test_tensor = torch.tensor(test_np, dtype=torch.float)\n",
    "test_tensor_set = Gd.MyDataset(test_tensor)"
   ]
  },
  {
   "cell_type": "markdown",
   "metadata": {},
   "source": [
    "# Load model"
   ]
  },
  {
   "cell_type": "code",
   "execution_count": 5,
   "metadata": {},
   "outputs": [],
   "source": [
    "class RMSELoss(nn.Module):\n",
    "    def __init__(self):\n",
    "        super(RMSELoss, self).__init__()\n",
    "        self.mse = nn.MSELoss()\n",
    "\n",
    "    def forward(self, y_pred, y_true):\n",
    "        return torch.sqrt(self.mse(y_pred, y_true))\n",
    "\n",
    "class NRMSE(nn.Module):\n",
    "    def __init__(self, total_dataset):\n",
    "        super(NRMSE, self).__init__()\n",
    "        self.rmse = RMSELoss()\n",
    "        self.factor = total_dataset.max()-total_dataset.min()\n",
    "\n",
    "    def forward(self, y_true, y_pred):\n",
    "        return self.rmse(y_true, y_pred)/self.factor"
   ]
  },
  {
   "cell_type": "markdown",
   "metadata": {},
   "source": [
    "## Load GAE"
   ]
  },
  {
   "cell_type": "code",
   "execution_count": 6,
   "metadata": {},
   "outputs": [],
   "source": [
    "lengthscales = [0.17, 1]  # 例如定义的长度比例\n",
    "num_mp_layers = [2, 3]  # 例如定义的消息传递层数\n",
    "\n",
    "bounding_box = []\n",
    "if len(lengthscales) > 0:\n",
    "    x_lo = pos[:,0].min() - lengthscales[0]/2\n",
    "    x_hi = pos[:,0].max() + lengthscales[0]/2\n",
    "    y_lo = pos[:,1].min() - lengthscales[0]/2\n",
    "    y_hi = pos[:,1].max() + lengthscales[0]/2\n",
    "    bounding_box = [x_lo.cpu(), x_hi.cpu(), y_lo.cpu(), y_hi.cpu()]"
   ]
  },
  {
   "cell_type": "code",
   "execution_count": 7,
   "metadata": {},
   "outputs": [
    {
     "data": {
      "text/plain": [
       "<All keys matched successfully>"
      ]
     },
     "execution_count": 7,
     "metadata": {},
     "output_type": "execute_result"
    }
   ],
   "source": [
    "gae = GAE(1, 1, bounding_box, lengthscales, num_mp_layers, 16, 2)\n",
    "criterion = RMSELoss()\n",
    "metric = NRMSE(test_tensor)\n",
    "# 加载保存的状态字典\n",
    "state_dict = torch.load('/home/scheng1/wl4023/IRP/BaselineModels/GAE/GAE.pth', map_location=torch.device('cpu'))\n",
    "gae.load_state_dict(state_dict)"
   ]
  },
  {
   "cell_type": "markdown",
   "metadata": {},
   "source": [
    "## Load CAE"
   ]
  },
  {
   "cell_type": "code",
   "execution_count": 8,
   "metadata": {},
   "outputs": [
    {
     "data": {
      "text/plain": [
       "<All keys matched successfully>"
      ]
     },
     "execution_count": 8,
     "metadata": {},
     "output_type": "execute_result"
    }
   ],
   "source": [
    "cae = Autoencoder(1, 49)\n",
    "# 加载保存的状态字典\n",
    "state_dict = torch.load('/home/scheng1/wl4023/IRP/BaselineModels/CNN_LSTM/CAE.pth', map_location=torch.device('cpu'))\n",
    "cae.load_state_dict(state_dict)\n",
    "# model.to(device)"
   ]
  },
  {
   "cell_type": "markdown",
   "metadata": {},
   "source": [
    "# Prediction"
   ]
  },
  {
   "cell_type": "code",
   "execution_count": 9,
   "metadata": {},
   "outputs": [],
   "source": [
    "criterion = RMSELoss()\n",
    "metric = NRMSE(test_tensor)"
   ]
  },
  {
   "cell_type": "markdown",
   "metadata": {},
   "source": [
    "## GAE"
   ]
  },
  {
   "cell_type": "code",
   "execution_count": 10,
   "metadata": {},
   "outputs": [
    {
     "name": "stdout",
     "output_type": "stream",
     "text": [
      "RMSE Loss: 1.4776051092147826, NRMSE Loss: 0.03448804283514619\n"
     ]
    }
   ],
   "source": [
    "GAE_output = torch.zeros_like(test_tensor)\n",
    "GAE_RMSEs = []\n",
    "GAE_NRMSEs = []\n",
    "\n",
    "\n",
    "for i in range(len(test_tensor_set)):\n",
    "    GAE_output[i], _, _ = gae(test_tensor_set[i], edge_index, edge_weight, pos)\n",
    "\n",
    "    rmse = criterion(test_tensor_set[i], GAE_output[i]).item()\n",
    "    nrmse = metric(test_tensor_set[i], GAE_output[i]).item()\n",
    "\n",
    "    GAE_RMSEs.append(rmse)\n",
    "    GAE_NRMSEs.append(nrmse)\n",
    "\n",
    "GAE_RMSEs = np.array(GAE_RMSEs)\n",
    "GAE_NRMSEs = np.array(GAE_NRMSEs)\n",
    "\n",
    "print(f\"RMSE Loss: {GAE_RMSEs.mean()}, NRMSE Loss: {GAE_NRMSEs.mean()}\")"
   ]
  },
  {
   "cell_type": "markdown",
   "metadata": {},
   "source": [
    "## CAE"
   ]
  },
  {
   "cell_type": "code",
   "execution_count": 11,
   "metadata": {},
   "outputs": [
    {
     "name": "stdout",
     "output_type": "stream",
     "text": [
      "RMSE Loss: 5.6498655772209165, NRMSE Loss: 0.13187069088220596\n"
     ]
    }
   ],
   "source": [
    "CAE_output = torch.zeros_like(test_tensor)\n",
    "CAE_RMSEs = []\n",
    "CAE_NRMSEs = []\n",
    "\n",
    "\n",
    "for i in range(len(test_tensor_set)):\n",
    "    x = test_tensor_set[i].permute(1, 0)\n",
    "    output = cae(x)\n",
    "\n",
    "    CAE_output[i] = output.permute(0, 2, 1)\n",
    "\n",
    "    rmse = criterion(test_tensor_set[i], CAE_output[i]).item()\n",
    "    nrmse = metric(test_tensor_set[i], CAE_output[i]).item()\n",
    "\n",
    "    CAE_RMSEs.append(rmse)\n",
    "    CAE_NRMSEs.append(nrmse)\n",
    "\n",
    "CAE_RMSEs = np.array(CAE_RMSEs)\n",
    "CAE_NRMSEs = np.array(CAE_NRMSEs)\n",
    "\n",
    "print(f\"RMSE Loss: {CAE_RMSEs.mean()}, NRMSE Loss: {CAE_NRMSEs.mean()}\")"
   ]
  },
  {
   "cell_type": "code",
   "execution_count": 12,
   "metadata": {},
   "outputs": [
    {
     "data": {
      "image/png": "[encoded data removed]",
      "text/plain": [
       "<Figure size 1200x600 with 2 Axes>"
      ]
     },
     "metadata": {},
     "output_type": "display_data"
    }
   ],
   "source": [
    "fig1, axs = plt.subplots(1, 2, figsize=(12, 6))\n",
    "\n",
    "x = np.arange(0, 100)\n",
    "\n",
    "axs[0].scatter(x, CAE_RMSEs, label='CAE RMSE')\n",
    "axs[0].scatter(x, GAE_RMSEs, label='GAE RMSE')\n",
    "axs[0].set_title(\"RMSE\")\n",
    "axs[0].legend()\n",
    "\n",
    "axs[1].scatter(x, CAE_NRMSEs, label='CAE NRMSE')\n",
    "axs[1].scatter(x, GAE_NRMSEs, label='GAE NRMSE')\n",
    "axs[1].set_title(\"NRMSE Loss\")\n",
    "axs[1].legend()\n",
    "\n",
    "\n",
    "plt.tight_layout()  # 调整布局以防止重叠\n",
    "plt.show()"
   ]
  }
 ],
 "metadata": {
  "kernelspec": {
   "display_name": "wl4023",
   "language": "python",
   "name": "python3"
  },
  "language_info": {
   "codemirror_mode": {
    "name": "ipython",
    "version": 3
   },
   "file_extension": ".py",
   "mimetype": "text/x-python",
   "name": "python",
   "nbconvert_exporter": "python",
   "pygments_lexer": "ipython3",
   "version": "3.10.14"
  }
 },
 "nbformat": 4,
 "nbformat_minor": 2
}
