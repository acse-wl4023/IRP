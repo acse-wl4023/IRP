{
 "cells": [
  {
   "cell_type": "code",
   "execution_count": 21,
   "metadata": {},
   "outputs": [],
   "source": [
    "import os\n",
    "import numpy as np\n",
    "import torch\n",
    "import pickle\n",
    "import Models.Get_data as Gd\n",
    "from torch.utils.data import DataLoader, Dataset\n",
    "import scipy\n",
    "from sklearn.decomposition import PCA"
   ]
  },
  {
   "cell_type": "code",
   "execution_count": 22,
   "metadata": {},
   "outputs": [],
   "source": [
    "latent_space = 25\n",
    "window_size = 10\n",
    "step_size = 3\n",
    "\n",
    "directory = '/home/wl4023/data/Sibo_22Mar2024'\n",
    "folders = [os.path.join(directory, f, 'hessian_') for f in os.listdir(directory) if f.startswith('case_')]"
   ]
  },
  {
   "cell_type": "code",
   "execution_count": 23,
   "metadata": {},
   "outputs": [
    {
     "name": "stdout",
     "output_type": "stream",
     "text": [
      "6.95707893371582 9.811119079589844\n"
     ]
    }
   ],
   "source": [
    "with open('/home/wl4023/github_repos/IRP/preprocessor.pkl', 'rb') as f:\n",
    "    preprocessor = pickle.load(f)\n",
    "print(preprocessor.mean, preprocessor.std)"
   ]
  },
  {
   "cell_type": "code",
   "execution_count": 24,
   "metadata": {},
   "outputs": [],
   "source": [
    "save_path = f'/home/wl4023/github_repos/IRP/predict_result_compare/Latent_space_{latent_space}/'\n",
    "os.makedirs(save_path, exist_ok=True)"
   ]
  },
  {
   "cell_type": "markdown",
   "metadata": {},
   "source": [
    "# PCA"
   ]
  },
  {
   "cell_type": "code",
   "execution_count": 25,
   "metadata": {},
   "outputs": [
    {
     "data": {
      "text/html": [
       "<style>#sk-container-id-2 {\n",
       "  /* Definition of color scheme common for light and dark mode */\n",
       "  --sklearn-color-text: black;\n",
       "  --sklearn-color-line: gray;\n",
       "  /* Definition of color scheme for unfitted estimators */\n",
       "  --sklearn-color-unfitted-level-0: #fff5e6;\n",
       "  --sklearn-color-unfitted-level-1: #f6e4d2;\n",
       "  --sklearn-color-unfitted-level-2: #ffe0b3;\n",
       "  --sklearn-color-unfitted-level-3: chocolate;\n",
       "  /* Definition of color scheme for fitted estimators */\n",
       "  --sklearn-color-fitted-level-0: #f0f8ff;\n",
       "  --sklearn-color-fitted-level-1: #d4ebff;\n",
       "  --sklearn-color-fitted-level-2: #b3dbfd;\n",
       "  --sklearn-color-fitted-level-3: cornflowerblue;\n",
       "\n",
       "  /* Specific color for light theme */\n",
       "  --sklearn-color-text-on-default-background: var(--sg-text-color, var(--theme-code-foreground, var(--jp-content-font-color1, black)));\n",
       "  --sklearn-color-background: var(--sg-background-color, var(--theme-background, var(--jp-layout-color0, white)));\n",
       "  --sklearn-color-border-box: var(--sg-text-color, var(--theme-code-foreground, var(--jp-content-font-color1, black)));\n",
       "  --sklearn-color-icon: #696969;\n",
       "\n",
       "  @media (prefers-color-scheme: dark) {\n",
       "    /* Redefinition of color scheme for dark theme */\n",
       "    --sklearn-color-text-on-default-background: var(--sg-text-color, var(--theme-code-foreground, var(--jp-content-font-color1, white)));\n",
       "    --sklearn-color-background: var(--sg-background-color, var(--theme-background, var(--jp-layout-color0, #111)));\n",
       "    --sklearn-color-border-box: var(--sg-text-color, var(--theme-code-foreground, var(--jp-content-font-color1, white)));\n",
       "    --sklearn-color-icon: #878787;\n",
       "  }\n",
       "}\n",
       "\n",
       "#sk-container-id-2 {\n",
       "  color: var(--sklearn-color-text);\n",
       "}\n",
       "\n",
       "#sk-container-id-2 pre {\n",
       "  padding: 0;\n",
       "}\n",
       "\n",
       "#sk-container-id-2 input.sk-hidden--visually {\n",
       "  border: 0;\n",
       "  clip: rect(1px 1px 1px 1px);\n",
       "  clip: rect(1px, 1px, 1px, 1px);\n",
       "  height: 1px;\n",
       "  margin: -1px;\n",
       "  overflow: hidden;\n",
       "  padding: 0;\n",
       "  position: absolute;\n",
       "  width: 1px;\n",
       "}\n",
       "\n",
       "#sk-container-id-2 div.sk-dashed-wrapped {\n",
       "  border: 1px dashed var(--sklearn-color-line);\n",
       "  margin: 0 0.4em 0.5em 0.4em;\n",
       "  box-sizing: border-box;\n",
       "  padding-bottom: 0.4em;\n",
       "  background-color: var(--sklearn-color-background);\n",
       "}\n",
       "\n",
       "#sk-container-id-2 div.sk-container {\n",
       "  /* jupyter's `normalize.less` sets `[hidden] { display: none; }`\n",
       "     but bootstrap.min.css set `[hidden] { display: none !important; }`\n",
       "     so we also need the `!important` here to be able to override the\n",
       "     default hidden behavior on the sphinx rendered scikit-learn.org.\n",
       "     See: https://github.com/scikit-learn/scikit-learn/issues/21755 */\n",
       "  display: inline-block !important;\n",
       "  position: relative;\n",
       "}\n",
       "\n",
       "#sk-container-id-2 div.sk-text-repr-fallback {\n",
       "  display: none;\n",
       "}\n",
       "\n",
       "div.sk-parallel-item,\n",
       "div.sk-serial,\n",
       "div.sk-item {\n",
       "  /* draw centered vertical line to link estimators */\n",
       "  background-image: linear-gradient(var(--sklearn-color-text-on-default-background), var(--sklearn-color-text-on-default-background));\n",
       "  background-size: 2px 100%;\n",
       "  background-repeat: no-repeat;\n",
       "  background-position: center center;\n",
       "}\n",
       "\n",
       "/* Parallel-specific style estimator block */\n",
       "\n",
       "#sk-container-id-2 div.sk-parallel-item::after {\n",
       "  content: \"\";\n",
       "  width: 100%;\n",
       "  border-bottom: 2px solid var(--sklearn-color-text-on-default-background);\n",
       "  flex-grow: 1;\n",
       "}\n",
       "\n",
       "#sk-container-id-2 div.sk-parallel {\n",
       "  display: flex;\n",
       "  align-items: stretch;\n",
       "  justify-content: center;\n",
       "  background-color: var(--sklearn-color-background);\n",
       "  position: relative;\n",
       "}\n",
       "\n",
       "#sk-container-id-2 div.sk-parallel-item {\n",
       "  display: flex;\n",
       "  flex-direction: column;\n",
       "}\n",
       "\n",
       "#sk-container-id-2 div.sk-parallel-item:first-child::after {\n",
       "  align-self: flex-end;\n",
       "  width: 50%;\n",
       "}\n",
       "\n",
       "#sk-container-id-2 div.sk-parallel-item:last-child::after {\n",
       "  align-self: flex-start;\n",
       "  width: 50%;\n",
       "}\n",
       "\n",
       "#sk-container-id-2 div.sk-parallel-item:only-child::after {\n",
       "  width: 0;\n",
       "}\n",
       "\n",
       "/* Serial-specific style estimator block */\n",
       "\n",
       "#sk-container-id-2 div.sk-serial {\n",
       "  display: flex;\n",
       "  flex-direction: column;\n",
       "  align-items: center;\n",
       "  background-color: var(--sklearn-color-background);\n",
       "  padding-right: 1em;\n",
       "  padding-left: 1em;\n",
       "}\n",
       "\n",
       "\n",
       "/* Toggleable style: style used for estimator/Pipeline/ColumnTransformer box that is\n",
       "clickable and can be expanded/collapsed.\n",
       "- Pipeline and ColumnTransformer use this feature and define the default style\n",
       "- Estimators will overwrite some part of the style using the `sk-estimator` class\n",
       "*/\n",
       "\n",
       "/* Pipeline and ColumnTransformer style (default) */\n",
       "\n",
       "#sk-container-id-2 div.sk-toggleable {\n",
       "  /* Default theme specific background. It is overwritten whether we have a\n",
       "  specific estimator or a Pipeline/ColumnTransformer */\n",
       "  background-color: var(--sklearn-color-background);\n",
       "}\n",
       "\n",
       "/* Toggleable label */\n",
       "#sk-container-id-2 label.sk-toggleable__label {\n",
       "  cursor: pointer;\n",
       "  display: block;\n",
       "  width: 100%;\n",
       "  margin-bottom: 0;\n",
       "  padding: 0.5em;\n",
       "  box-sizing: border-box;\n",
       "  text-align: center;\n",
       "}\n",
       "\n",
       "#sk-container-id-2 label.sk-toggleable__label-arrow:before {\n",
       "  /* Arrow on the left of the label */\n",
       "  content: \"▸\";\n",
       "  float: left;\n",
       "  margin-right: 0.25em;\n",
       "  color: var(--sklearn-color-icon);\n",
       "}\n",
       "\n",
       "#sk-container-id-2 label.sk-toggleable__label-arrow:hover:before {\n",
       "  color: var(--sklearn-color-text);\n",
       "}\n",
       "\n",
       "/* Toggleable content - dropdown */\n",
       "\n",
       "#sk-container-id-2 div.sk-toggleable__content {\n",
       "  max-height: 0;\n",
       "  max-width: 0;\n",
       "  overflow: hidden;\n",
       "  text-align: left;\n",
       "  /* unfitted */\n",
       "  background-color: var(--sklearn-color-unfitted-level-0);\n",
       "}\n",
       "\n",
       "#sk-container-id-2 div.sk-toggleable__content.fitted {\n",
       "  /* fitted */\n",
       "  background-color: var(--sklearn-color-fitted-level-0);\n",
       "}\n",
       "\n",
       "#sk-container-id-2 div.sk-toggleable__content pre {\n",
       "  margin: 0.2em;\n",
       "  border-radius: 0.25em;\n",
       "  color: var(--sklearn-color-text);\n",
       "  /* unfitted */\n",
       "  background-color: var(--sklearn-color-unfitted-level-0);\n",
       "}\n",
       "\n",
       "#sk-container-id-2 div.sk-toggleable__content.fitted pre {\n",
       "  /* unfitted */\n",
       "  background-color: var(--sklearn-color-fitted-level-0);\n",
       "}\n",
       "\n",
       "#sk-container-id-2 input.sk-toggleable__control:checked~div.sk-toggleable__content {\n",
       "  /* Expand drop-down */\n",
       "  max-height: 200px;\n",
       "  max-width: 100%;\n",
       "  overflow: auto;\n",
       "}\n",
       "\n",
       "#sk-container-id-2 input.sk-toggleable__control:checked~label.sk-toggleable__label-arrow:before {\n",
       "  content: \"▾\";\n",
       "}\n",
       "\n",
       "/* Pipeline/ColumnTransformer-specific style */\n",
       "\n",
       "#sk-container-id-2 div.sk-label input.sk-toggleable__control:checked~label.sk-toggleable__label {\n",
       "  color: var(--sklearn-color-text);\n",
       "  background-color: var(--sklearn-color-unfitted-level-2);\n",
       "}\n",
       "\n",
       "#sk-container-id-2 div.sk-label.fitted input.sk-toggleable__control:checked~label.sk-toggleable__label {\n",
       "  background-color: var(--sklearn-color-fitted-level-2);\n",
       "}\n",
       "\n",
       "/* Estimator-specific style */\n",
       "\n",
       "/* Colorize estimator box */\n",
       "#sk-container-id-2 div.sk-estimator input.sk-toggleable__control:checked~label.sk-toggleable__label {\n",
       "  /* unfitted */\n",
       "  background-color: var(--sklearn-color-unfitted-level-2);\n",
       "}\n",
       "\n",
       "#sk-container-id-2 div.sk-estimator.fitted input.sk-toggleable__control:checked~label.sk-toggleable__label {\n",
       "  /* fitted */\n",
       "  background-color: var(--sklearn-color-fitted-level-2);\n",
       "}\n",
       "\n",
       "#sk-container-id-2 div.sk-label label.sk-toggleable__label,\n",
       "#sk-container-id-2 div.sk-label label {\n",
       "  /* The background is the default theme color */\n",
       "  color: var(--sklearn-color-text-on-default-background);\n",
       "}\n",
       "\n",
       "/* On hover, darken the color of the background */\n",
       "#sk-container-id-2 div.sk-label:hover label.sk-toggleable__label {\n",
       "  color: var(--sklearn-color-text);\n",
       "  background-color: var(--sklearn-color-unfitted-level-2);\n",
       "}\n",
       "\n",
       "/* Label box, darken color on hover, fitted */\n",
       "#sk-container-id-2 div.sk-label.fitted:hover label.sk-toggleable__label.fitted {\n",
       "  color: var(--sklearn-color-text);\n",
       "  background-color: var(--sklearn-color-fitted-level-2);\n",
       "}\n",
       "\n",
       "/* Estimator label */\n",
       "\n",
       "#sk-container-id-2 div.sk-label label {\n",
       "  font-family: monospace;\n",
       "  font-weight: bold;\n",
       "  display: inline-block;\n",
       "  line-height: 1.2em;\n",
       "}\n",
       "\n",
       "#sk-container-id-2 div.sk-label-container {\n",
       "  text-align: center;\n",
       "}\n",
       "\n",
       "/* Estimator-specific */\n",
       "#sk-container-id-2 div.sk-estimator {\n",
       "  font-family: monospace;\n",
       "  border: 1px dotted var(--sklearn-color-border-box);\n",
       "  border-radius: 0.25em;\n",
       "  box-sizing: border-box;\n",
       "  margin-bottom: 0.5em;\n",
       "  /* unfitted */\n",
       "  background-color: var(--sklearn-color-unfitted-level-0);\n",
       "}\n",
       "\n",
       "#sk-container-id-2 div.sk-estimator.fitted {\n",
       "  /* fitted */\n",
       "  background-color: var(--sklearn-color-fitted-level-0);\n",
       "}\n",
       "\n",
       "/* on hover */\n",
       "#sk-container-id-2 div.sk-estimator:hover {\n",
       "  /* unfitted */\n",
       "  background-color: var(--sklearn-color-unfitted-level-2);\n",
       "}\n",
       "\n",
       "#sk-container-id-2 div.sk-estimator.fitted:hover {\n",
       "  /* fitted */\n",
       "  background-color: var(--sklearn-color-fitted-level-2);\n",
       "}\n",
       "\n",
       "/* Specification for estimator info (e.g. \"i\" and \"?\") */\n",
       "\n",
       "/* Common style for \"i\" and \"?\" */\n",
       "\n",
       ".sk-estimator-doc-link,\n",
       "a:link.sk-estimator-doc-link,\n",
       "a:visited.sk-estimator-doc-link {\n",
       "  float: right;\n",
       "  font-size: smaller;\n",
       "  line-height: 1em;\n",
       "  font-family: monospace;\n",
       "  background-color: var(--sklearn-color-background);\n",
       "  border-radius: 1em;\n",
       "  height: 1em;\n",
       "  width: 1em;\n",
       "  text-decoration: none !important;\n",
       "  margin-left: 1ex;\n",
       "  /* unfitted */\n",
       "  border: var(--sklearn-color-unfitted-level-1) 1pt solid;\n",
       "  color: var(--sklearn-color-unfitted-level-1);\n",
       "}\n",
       "\n",
       ".sk-estimator-doc-link.fitted,\n",
       "a:link.sk-estimator-doc-link.fitted,\n",
       "a:visited.sk-estimator-doc-link.fitted {\n",
       "  /* fitted */\n",
       "  border: var(--sklearn-color-fitted-level-1) 1pt solid;\n",
       "  color: var(--sklearn-color-fitted-level-1);\n",
       "}\n",
       "\n",
       "/* On hover */\n",
       "div.sk-estimator:hover .sk-estimator-doc-link:hover,\n",
       ".sk-estimator-doc-link:hover,\n",
       "div.sk-label-container:hover .sk-estimator-doc-link:hover,\n",
       ".sk-estimator-doc-link:hover {\n",
       "  /* unfitted */\n",
       "  background-color: var(--sklearn-color-unfitted-level-3);\n",
       "  color: var(--sklearn-color-background);\n",
       "  text-decoration: none;\n",
       "}\n",
       "\n",
       "div.sk-estimator.fitted:hover .sk-estimator-doc-link.fitted:hover,\n",
       ".sk-estimator-doc-link.fitted:hover,\n",
       "div.sk-label-container:hover .sk-estimator-doc-link.fitted:hover,\n",
       ".sk-estimator-doc-link.fitted:hover {\n",
       "  /* fitted */\n",
       "  background-color: var(--sklearn-color-fitted-level-3);\n",
       "  color: var(--sklearn-color-background);\n",
       "  text-decoration: none;\n",
       "}\n",
       "\n",
       "/* Span, style for the box shown on hovering the info icon */\n",
       ".sk-estimator-doc-link span {\n",
       "  display: none;\n",
       "  z-index: 9999;\n",
       "  position: relative;\n",
       "  font-weight: normal;\n",
       "  right: .2ex;\n",
       "  padding: .5ex;\n",
       "  margin: .5ex;\n",
       "  width: min-content;\n",
       "  min-width: 20ex;\n",
       "  max-width: 50ex;\n",
       "  color: var(--sklearn-color-text);\n",
       "  box-shadow: 2pt 2pt 4pt #999;\n",
       "  /* unfitted */\n",
       "  background: var(--sklearn-color-unfitted-level-0);\n",
       "  border: .5pt solid var(--sklearn-color-unfitted-level-3);\n",
       "}\n",
       "\n",
       ".sk-estimator-doc-link.fitted span {\n",
       "  /* fitted */\n",
       "  background: var(--sklearn-color-fitted-level-0);\n",
       "  border: var(--sklearn-color-fitted-level-3);\n",
       "}\n",
       "\n",
       ".sk-estimator-doc-link:hover span {\n",
       "  display: block;\n",
       "}\n",
       "\n",
       "/* \"?\"-specific style due to the `<a>` HTML tag */\n",
       "\n",
       "#sk-container-id-2 a.estimator_doc_link {\n",
       "  float: right;\n",
       "  font-size: 1rem;\n",
       "  line-height: 1em;\n",
       "  font-family: monospace;\n",
       "  background-color: var(--sklearn-color-background);\n",
       "  border-radius: 1rem;\n",
       "  height: 1rem;\n",
       "  width: 1rem;\n",
       "  text-decoration: none;\n",
       "  /* unfitted */\n",
       "  color: var(--sklearn-color-unfitted-level-1);\n",
       "  border: var(--sklearn-color-unfitted-level-1) 1pt solid;\n",
       "}\n",
       "\n",
       "#sk-container-id-2 a.estimator_doc_link.fitted {\n",
       "  /* fitted */\n",
       "  border: var(--sklearn-color-fitted-level-1) 1pt solid;\n",
       "  color: var(--sklearn-color-fitted-level-1);\n",
       "}\n",
       "\n",
       "/* On hover */\n",
       "#sk-container-id-2 a.estimator_doc_link:hover {\n",
       "  /* unfitted */\n",
       "  background-color: var(--sklearn-color-unfitted-level-3);\n",
       "  color: var(--sklearn-color-background);\n",
       "  text-decoration: none;\n",
       "}\n",
       "\n",
       "#sk-container-id-2 a.estimator_doc_link.fitted:hover {\n",
       "  /* fitted */\n",
       "  background-color: var(--sklearn-color-fitted-level-3);\n",
       "}\n",
       "</style><div id=\"sk-container-id-2\" class=\"sk-top-container\"><div class=\"sk-text-repr-fallback\"><pre>PCA(n_components=25)</pre><b>In a Jupyter environment, please rerun this cell to show the HTML representation or trust the notebook. <br />On GitHub, the HTML representation is unable to render, please try loading this page with nbviewer.org.</b></div><div class=\"sk-container\" hidden><div class=\"sk-item\"><div class=\"sk-estimator fitted sk-toggleable\"><input class=\"sk-toggleable__control sk-hidden--visually\" id=\"sk-estimator-id-2\" type=\"checkbox\" checked><label for=\"sk-estimator-id-2\" class=\"sk-toggleable__label fitted sk-toggleable__label-arrow fitted\">&nbsp;&nbsp;PCA<a class=\"sk-estimator-doc-link fitted\" rel=\"noreferrer\" target=\"_blank\" href=\"https://scikit-learn.org/1.5/modules/generated/sklearn.decomposition.PCA.html\">?<span>Documentation for PCA</span></a><span class=\"sk-estimator-doc-link fitted\">i<span>Fitted</span></span></label><div class=\"sk-toggleable__content fitted\"><pre>PCA(n_components=25)</pre></div> </div></div></div></div>"
      ],
      "text/plain": [
       "PCA(n_components=25)"
      ]
     },
     "execution_count": 25,
     "metadata": {},
     "output_type": "execute_result"
    }
   ],
   "source": [
    "dataset, length = Gd.get_all_nodes(folders[:-1])\n",
    "dataset = dataset[:, :, 0]\n",
    "\n",
    "pca = PCA(n_components=latent_space)\n",
    "pca.fit(preprocessor.transform(dataset))"
   ]
  },
  {
   "cell_type": "code",
   "execution_count": 26,
   "metadata": {},
   "outputs": [],
   "source": [
    "class PCA_Dataset(Dataset):\n",
    "    def __init__(self, x, y, original_x, original_y):\n",
    "        self.x = x\n",
    "        self.y = y\n",
    "        self.original_x = original_x\n",
    "        self.original_y = original_y\n",
    "    def __len__(self):\n",
    "        return self.x.shape[0]\n",
    "\n",
    "    def __getitem__(self, idx):\n",
    "        return self.x[idx], self.y[idx], self.original_x[idx], self.original_y[idx]"
   ]
  },
  {
   "cell_type": "code",
   "execution_count": 27,
   "metadata": {},
   "outputs": [
    {
     "name": "stdout",
     "output_type": "stream",
     "text": [
      "torch.Size([31, 10, 25])\n"
     ]
    }
   ],
   "source": [
    "dataset_1, length = Gd.get_all_nodes(folders[-1:])\n",
    "dataset_1 = dataset_1[:, :, 0]\n",
    "test_pca_data = pca.transform(preprocessor.transform(dataset_1))\n",
    "test_pca_data = torch.tensor(test_pca_data, dtype=torch.float32)\n",
    "test_pca_data = Gd.segment_data_torch(test_pca_data, length, window_size, step_size)\n",
    "print(test_pca_data.shape)\n",
    "\n",
    "\n",
    "dataset_1 = torch.tensor(dataset_1, dtype=torch.float32)\n",
    "test_origin_dataset = Gd.segment_data_torch(dataset_1, length, window_size, step_size)\n",
    "\n",
    "test_data = PCA_Dataset(test_pca_data[:, :5, :], test_pca_data[:, -5:, :], test_origin_dataset[:, :5, :], test_origin_dataset[:, -5:, :])\n",
    "test_loader = DataLoader(test_data, 1)"
   ]
  },
  {
   "cell_type": "code",
   "execution_count": 28,
   "metadata": {},
   "outputs": [
    {
     "data": {
      "text/plain": [
       "<All keys matched successfully>"
      ]
     },
     "execution_count": 28,
     "metadata": {},
     "output_type": "execute_result"
    }
   ],
   "source": [
    "from Models.LSTM import LSTM_seq2seq\n",
    "\n",
    "PCA_LSTM_seq2seq = LSTM_seq2seq(latent_space, 100)\n",
    "state_dict = torch.load(f'/home/wl4023/github_repos/IRP/predict result/Latent space {latent_space}/PCA_LSTM.pth')\n",
    "\n",
    "PCA_LSTM_seq2seq.load_state_dict(state_dict)"
   ]
  },
  {
   "cell_type": "code",
   "execution_count": 29,
   "metadata": {},
   "outputs": [
    {
     "name": "stdout",
     "output_type": "stream",
     "text": [
      "(31, 5, 97149)\n"
     ]
    }
   ],
   "source": [
    "pca_lstm_recon_predict_list = []\n",
    "\n",
    "with torch.no_grad():\n",
    "    test_loss = 0\n",
    "    test_metric = 0\n",
    "    for x, y, _, original_y in test_loader:\n",
    "        input = x\n",
    "        label = y\n",
    "        predict = PCA_LSTM_seq2seq(input, 5)\n",
    "\n",
    "        recon_predict=[]\n",
    "        for i in range(len(x)):\n",
    "            temp = preprocessor.inverse_transform(pca.inverse_transform(predict[i].cpu().detach().numpy()))\n",
    "            recon_predict.append(torch.tensor(temp, dtype=torch.float32))\n",
    "\n",
    "        recon_predict = torch.stack(recon_predict, dim=0)\n",
    "        pca_lstm_recon_predict_list.append(recon_predict)\n",
    "\n",
    "\n",
    "pca_lstm_recon_predict_list = torch.cat(pca_lstm_recon_predict_list).numpy()\n",
    "\n",
    "np.save(save_path+'PCA_LSTM_predict.npy', pca_lstm_recon_predict_list)\n",
    "\n",
    "print(pca_lstm_recon_predict_list.shape)"
   ]
  },
  {
   "cell_type": "markdown",
   "metadata": {},
   "source": [
    "# CAE_LSTM"
   ]
  },
  {
   "cell_type": "code",
   "execution_count": 30,
   "metadata": {},
   "outputs": [],
   "source": [
    "dataset, length = Gd.get_all_nodes(folders[-1:])\n",
    "dataset = np.expand_dims(dataset[:, :, 0], axis=1)\n",
    "\n",
    "dataset = torch.tensor(dataset, dtype=torch.float32)\n",
    "dataset = Gd.segment_data_torch(dataset, length, window_size, step_size)\n",
    "\n",
    "test_data = Gd.MyDataset(dataset[:, 0:5, :, :], dataset[:, -5:, :, :])\n",
    "test_loader = DataLoader(test_data, batch_size=1, shuffle=False)"
   ]
  },
  {
   "cell_type": "code",
   "execution_count": 31,
   "metadata": {},
   "outputs": [
    {
     "data": {
      "text/plain": [
       "<All keys matched successfully>"
      ]
     },
     "execution_count": 31,
     "metadata": {},
     "output_type": "execute_result"
    }
   ],
   "source": [
    "from Models.CAE_LSTM import CAE_LSTM_seq2seq\n",
    "model = CAE_LSTM_seq2seq(latent_space, 100)\n",
    "state_dict = torch.load(f'/home/wl4023/github_repos/IRP/predict result/Latent space {latent_space}/CAE_LSTM.pth')\n",
    "\n",
    "model.load_state_dict(state_dict)"
   ]
  },
  {
   "cell_type": "code",
   "execution_count": 32,
   "metadata": {},
   "outputs": [
    {
     "name": "stdout",
     "output_type": "stream",
     "text": [
      "(31, 5, 1, 97149)\n"
     ]
    }
   ],
   "source": [
    "CAE_LSTM_recon_predict_list=[]\n",
    "\n",
    "model.eval()\n",
    "with torch.no_grad():\n",
    "    test_loss = 0\n",
    "    test_metric = 0\n",
    "    for x, y in test_loader:\n",
    "        input = preprocessor.transform(x)\n",
    "        predict = model(input, 5)\n",
    "\n",
    "        recon_predict = preprocessor.inverse_transform(predict)\n",
    "\n",
    "        CAE_LSTM_recon_predict_list.append(recon_predict.cpu())\n",
    "\n",
    "\n",
    "CAE_LSTM_recon_predict_list = torch.cat(CAE_LSTM_recon_predict_list, dim=0).numpy()\n",
    "np.save(save_path+'CAE_LSTM_predict.npy', CAE_LSTM_recon_predict_list)\n",
    "\n",
    "print(CAE_LSTM_recon_predict_list.shape)"
   ]
  },
  {
   "cell_type": "markdown",
   "metadata": {},
   "source": [
    "# GAE_LSTM"
   ]
  },
  {
   "cell_type": "code",
   "execution_count": 33,
   "metadata": {},
   "outputs": [],
   "source": [
    "pos = torch.tensor(np.load(directory+\"/case_0/hessian_/xy_coords.npy\"), dtype=torch.float32)\n",
    "\n",
    "sparse_graph = scipy.sparse.load_npz(directory+'/new_sparse_matrix.npz')\n",
    "indices = np.array(sparse_graph.nonzero())\n",
    "values = sparse_graph.data\n",
    "shape = sparse_graph.shape\n",
    "\n",
    "# sparse edge tensor\n",
    "edge_tensor = torch.sparse_coo_tensor(indices, values, shape, dtype=torch.float).coalesce()\n",
    "edge_index = edge_tensor.indices()\n",
    "edge_weight = edge_tensor.values()\n",
    "edge_weight = edge_weight.unsqueeze(1)"
   ]
  },
  {
   "cell_type": "code",
   "execution_count": 34,
   "metadata": {},
   "outputs": [],
   "source": [
    "dataset_1, length = Gd.get_all_nodes(folders[-1:])\n",
    "dataset_1 = np.expand_dims(dataset_1[:, :, 0], axis=2)\n",
    "\n",
    "dataset_1 = torch.tensor(dataset_1, dtype=torch.float32)\n",
    "dataset_1 = Gd.segment_data_torch(dataset_1, length, window_size, step_size)\n",
    "\n",
    "gae_lstm_test_set = Gd.MyDataset(dataset_1[:, 0:5, :, :], dataset_1[:, -5:, :, :])"
   ]
  },
  {
   "cell_type": "code",
   "execution_count": 35,
   "metadata": {},
   "outputs": [],
   "source": [
    "clusters = torch.load(f'/home/wl4023/github_repos/IRP/result/Latent space {latent_space}/clusters.pt')\n",
    "centroids = torch.load(f'/home/wl4023/github_repos/IRP/result/Latent space {latent_space}/centroids.pt')"
   ]
  },
  {
   "cell_type": "code",
   "execution_count": 36,
   "metadata": {},
   "outputs": [
    {
     "data": {
      "text/plain": [
       "<All keys matched successfully>"
      ]
     },
     "execution_count": 36,
     "metadata": {},
     "output_type": "execute_result"
    }
   ],
   "source": [
    "from Models.GAE_LSTM import GAE_LSTM_seq2seq\n",
    "\n",
    "gae_lstm_seq2seq = GAE_LSTM_seq2seq(latent_space=latent_space,\n",
    "                                    hidden_size=100,\n",
    "                                    input_node_channel=1,\n",
    "                                    output_node_channel=1,\n",
    "                                    num_mp_layers=[2, 2, 2],\n",
    "                                    clusters=clusters,\n",
    "                                    centroids=centroids,\n",
    "                                    hidden_channels=16,\n",
    "                                    n_mlp_mp=3)\n",
    "\n",
    "state_dict = torch.load(f'/home/wl4023/github_repos/IRP/GAE_LSTM_result/Latent_space_{latent_space}/GAE_LSTM.pth')\n",
    "\n",
    "gae_lstm_seq2seq.load_state_dict(state_dict)"
   ]
  },
  {
   "cell_type": "code",
   "execution_count": 37,
   "metadata": {},
   "outputs": [
    {
     "name": "stdout",
     "output_type": "stream",
     "text": [
      "(31, 5, 97149, 1)\n"
     ]
    }
   ],
   "source": [
    "GAE_LSTM_recon_predict_list = []\n",
    "with torch.no_grad():\n",
    "    test_loss = 0\n",
    "    test_metric = 0\n",
    "    for x, y in gae_lstm_test_set:\n",
    "        input = preprocessor.transform(x)\n",
    "        predict = gae_lstm_seq2seq(input, 5, edge_index, edge_weight, pos)\n",
    "\n",
    "        recon_predict = preprocessor.inverse_transform(predict.cpu())\n",
    "\n",
    "        GAE_LSTM_recon_predict_list.append(recon_predict)\n",
    "\n",
    "GAE_LSTM_recon_predict_list = torch.stack(GAE_LSTM_recon_predict_list, dim=0).numpy()\n",
    "\n",
    "np.save(save_path+'GAE_LSTM_predict.npy', GAE_LSTM_recon_predict_list)\n",
    "print(GAE_LSTM_recon_predict_list.shape)"
   ]
  },
  {
   "cell_type": "markdown",
   "metadata": {},
   "source": [
    "# GAE_GConvLSTM"
   ]
  },
  {
   "cell_type": "code",
   "execution_count": 38,
   "metadata": {},
   "outputs": [],
   "source": [
    "dataset_1, length = Gd.get_all_nodes(folders[-1:])\n",
    "dataset_1 = np.expand_dims(dataset_1[:, :, 0], axis=2)\n",
    "\n",
    "dataset_1 = torch.tensor(dataset_1, dtype=torch.float32)\n",
    "dataset_1 = Gd.segment_data_torch(dataset_1, length, window_size, step_size)\n",
    "\n",
    "GAE_GConvLSTM_test_set = Gd.MyDataset(dataset_1[:, 0:5, :, :], dataset_1[:, -5:, :, :])"
   ]
  },
  {
   "cell_type": "code",
   "execution_count": 39,
   "metadata": {},
   "outputs": [
    {
     "data": {
      "text/plain": [
       "<All keys matched successfully>"
      ]
     },
     "execution_count": 39,
     "metadata": {},
     "output_type": "execute_result"
    }
   ],
   "source": [
    "from Models.GAE_GConvLSTM import GAE_GConvLSTM_seq2seq\n",
    "\n",
    "gae_gconvlstm_seq2seq = GAE_GConvLSTM_seq2seq(latent_space=latent_space,\n",
    "                                              hidden_channel_lstm=1,\n",
    "                                              input_node_channel=1,\n",
    "                                              output_node_channel=1,\n",
    "                                              num_mp_layers=[2, 2, 2],\n",
    "                                              clusters=clusters,\n",
    "                                              centroids=centroids,\n",
    "                                              hidden_channels=8,\n",
    "                                              n_mlp_mp=3,)\n",
    "\n",
    "state_dict = torch.load(f'/home/wl4023/github_repos/IRP/GAE_GConvLSTM_result/Latent_space {latent_space}/GConvLSTM.pth')\n",
    "\n",
    "gae_gconvlstm_seq2seq.load_state_dict(state_dict)"
   ]
  },
  {
   "cell_type": "code",
   "execution_count": 40,
   "metadata": {},
   "outputs": [
    {
     "name": "stdout",
     "output_type": "stream",
     "text": [
      "(31, 5, 97149, 1)\n"
     ]
    }
   ],
   "source": [
    "GAE_GConvLSTM_recon_predict_list = []\n",
    "with torch.no_grad():\n",
    "    test_loss = 0\n",
    "    test_metric = 0\n",
    "    for x, y in GAE_GConvLSTM_test_set:\n",
    "        input = preprocessor.transform(x)\n",
    "        predict = gae_gconvlstm_seq2seq(input, 5, edge_index, edge_weight, pos)\n",
    "\n",
    "        recon_predict = preprocessor.inverse_transform(predict.cpu())\n",
    "\n",
    "        GAE_GConvLSTM_recon_predict_list.append(recon_predict)\n",
    "\n",
    "GAE_GConvLSTM_recon_predict_list = torch.stack(GAE_GConvLSTM_recon_predict_list, dim=0).numpy()\n",
    "\n",
    "\n",
    "np.save(save_path+'GAE_GConvLSTM_predict.npy', GAE_GConvLSTM_recon_predict_list)\n",
    "print(GAE_GConvLSTM_recon_predict_list.shape)"
   ]
  }
 ],
 "metadata": {
  "kernelspec": {
   "display_name": "wl4023",
   "language": "python",
   "name": "python3"
  },
  "language_info": {
   "codemirror_mode": {
    "name": "ipython",
    "version": 3
   },
   "file_extension": ".py",
   "mimetype": "text/x-python",
   "name": "python",
   "nbconvert_exporter": "python",
   "pygments_lexer": "ipython3",
   "version": "3.10.14"
  }
 },
 "nbformat": 4,
 "nbformat_minor": 2
}
